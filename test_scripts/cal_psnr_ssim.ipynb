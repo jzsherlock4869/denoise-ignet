{
 "cells": [
  {
   "cell_type": "code",
   "execution_count": 8,
   "id": "34224c7a",
   "metadata": {},
   "outputs": [],
   "source": [
    "import cv2\n",
    "import math\n",
    "import numpy as np\n",
    "import torch\n",
    "\n",
    "import os\n",
    "from collections import OrderedDict\n",
    "import matplotlib.pyplot as plt\n",
    "from datetime import datetime\n",
    "\n",
    "from glob import glob"
   ]
  },
  {
   "cell_type": "code",
   "execution_count": 9,
   "id": "e6cf59b0",
   "metadata": {},
   "outputs": [],
   "source": [
    "# calulate SSIM\n",
    "\n",
    "def ssim(img1, img2):\n",
    "    C1 = (0.01 * 255)**2\n",
    "    C2 = (0.03 * 255)**2\n",
    "\n",
    "    img1 = img1.astype(np.float64)\n",
    "    img2 = img2.astype(np.float64)\n",
    "    kernel = cv2.getGaussianKernel(11, 1.5)\n",
    "    window = np.outer(kernel, kernel.transpose())\n",
    "\n",
    "    mu1 = cv2.filter2D(img1, -1, window)[5:-5, 5:-5]  # valid\n",
    "    mu2 = cv2.filter2D(img2, -1, window)[5:-5, 5:-5]\n",
    "    mu1_sq = mu1**2\n",
    "    mu2_sq = mu2**2\n",
    "    mu1_mu2 = mu1 * mu2\n",
    "    sigma1_sq = cv2.filter2D(img1**2, -1, window)[5:-5, 5:-5] - mu1_sq\n",
    "    sigma2_sq = cv2.filter2D(img2**2, -1, window)[5:-5, 5:-5] - mu2_sq\n",
    "    sigma12 = cv2.filter2D(img1 * img2, -1, window)[5:-5, 5:-5] - mu1_mu2\n",
    "\n",
    "    ssim_map = ((2 * mu1_mu2 + C1) * (2 * sigma12 + C2)) / ((mu1_sq + mu2_sq + C1) *\n",
    "                                                            (sigma1_sq + sigma2_sq + C2))\n",
    "    return ssim_map.mean()\n",
    "\n",
    "\n",
    "def calculate_ssim(img1, img2):\n",
    "    '''calculate SSIM\n",
    "    the same outputs as MATLAB's\n",
    "    img1, img2: [0, 255]\n",
    "    '''\n",
    "    if not img1.shape == img2.shape:\n",
    "        raise ValueError('Input images must have the same dimensions.')\n",
    "    if img1.ndim == 2:\n",
    "        return ssim(img1, img2)\n",
    "    elif img1.ndim == 3:\n",
    "        if img1.shape[2] == 3:\n",
    "            ssims = []\n",
    "            for i in range(3):\n",
    "                ssims.append(ssim(img1, img2))\n",
    "            return np.array(ssims).mean()\n",
    "        elif img1.shape[2] == 1:\n",
    "            return ssim(np.squeeze(img1), np.squeeze(img2))\n",
    "    else:\n",
    "        raise ValueError('Wrong input image dimensions.')\n",
    "\n",
    "# calculate PSNR\n",
    "\n",
    "def calc_psnr(img1, img2):\n",
    "    # input: img1 (img2) \n",
    "    #   torch.Tensor, range in [0, 1.0]\n",
    "    img1, img2 = img1 * 255.0, img2 * 255.0\n",
    "    mse = torch.mean((img1 - img2) ** 2)\n",
    "    if mse == 0:\n",
    "        return float('inf')\n",
    "    return 20 * torch.log10(255.0 / torch.sqrt(mse))"
   ]
  },
  {
   "cell_type": "code",
   "execution_count": 10,
   "id": "eea30f87",
   "metadata": {},
   "outputs": [],
   "source": [
    "# CHANGE HERE TO CONDUCT EACH EXPERIMENT\n",
    "\n",
    "GLOBAL_SIGMA = 25\n",
    "ARCH = 'ignetp'\n",
    "EVAL_DATASET = 'Set12' # 'BSD68' 'Urban100'"
   ]
  },
  {
   "cell_type": "code",
   "execution_count": 11,
   "id": "711fae0b",
   "metadata": {},
   "outputs": [],
   "source": [
    "import importlib\n",
    "import sys\n",
    "sys.path.append('..')\n",
    "config = getattr(importlib.import_module(f\"configs.config_{ARCH}_sigma{GLOBAL_SIGMA}\"), 'get_config')()"
   ]
  },
  {
   "cell_type": "code",
   "execution_count": 12,
   "id": "0473520c",
   "metadata": {},
   "outputs": [
    {
     "data": {
      "text/plain": [
       "{'seed': 2021,\n",
       " 'train_dir': '../datasets/MWCNN_Trainset_YChannel',\n",
       " 'eval_dir': './eval_dataset_images/Set12',\n",
       " 'patch_size': 128,\n",
       " 'stride': 128,\n",
       " 'sigma': 25,\n",
       " 'aug_flip_times': 2,\n",
       " 'aug_scales': [1, 0.9, 0.8, 0.7],\n",
       " 'num_workers': 8,\n",
       " 'use_gpus': [0, 1, 2, 3],\n",
       " 'model_arch': 'ignetp',\n",
       " 'model_params': {'in_ch': 1, 'out_ch': 1, 'base_ft': 64, 'mid_ft': 32},\n",
       " 'output_dir': '../output',\n",
       " 'batch_size': 512,\n",
       " 'num_epochs': 100,\n",
       " 'lr': 0.0005,\n",
       " 'vis_dir': '../pred_vis_large/arch_ignetp_bs512_lr0.0005_p128_s128_sigma25_augf2_augs4',\n",
       " 'vis_interval': 1,\n",
       " 'exp_name': 'arch_ignetp_bs512_lr0.0005_p128_s128_sigma25_augf2_augs4'}"
      ]
     },
     "execution_count": 12,
     "metadata": {},
     "output_type": "execute_result"
    }
   ],
   "source": [
    "config.eval_dir = f'./eval_dataset_images/{EVAL_DATASET}'\n",
    "config.__dict__"
   ]
  },
  {
   "cell_type": "code",
   "execution_count": 13,
   "id": "473afc7f",
   "metadata": {},
   "outputs": [
    {
     "name": "stdout",
     "output_type": "stream",
     "text": [
      "./eval_dataset_h5/Set12_SIGMA25.h5 already generated, use this file as eval dataset\n",
      "12\n",
      "0th eval batch\n",
      "torch.Size([1, 1, 256, 256]) torch.Size([1, 1, 256, 256])\n",
      "1th eval batch\n",
      "torch.Size([1, 1, 256, 256]) torch.Size([1, 1, 256, 256])\n",
      "2th eval batch\n",
      "torch.Size([1, 1, 256, 256]) torch.Size([1, 1, 256, 256])\n"
     ]
    }
   ],
   "source": [
    "from dataloader_train400 import get_eval_dataloader\n",
    "eval_dataloader, len_evalset = get_eval_dataloader(config)\n",
    "print(len_evalset)\n",
    "for idx, data in enumerate(eval_dataloader):\n",
    "    if idx > 2:\n",
    "        break\n",
    "    print('{}th eval batch'.format(idx))\n",
    "    print(data[0].size(), data[1].size())"
   ]
  },
  {
   "cell_type": "code",
   "execution_count": 14,
   "id": "2f462ec2",
   "metadata": {
    "scrolled": true
   },
   "outputs": [
    {
     "name": "stdout",
     "output_type": "stream",
     "text": [
      "./ckpts/ignetp_sigma25/best.pth\n",
      "avg psnr: 30.7159 avg ssim: 0.8688\n"
     ]
    }
   ],
   "source": [
    "device = 'cuda'\n",
    "\n",
    "best_psnr = 0\n",
    "best_ssim = 0\n",
    "\n",
    "from archs.ignet import IGNet\n",
    "network = IGNet(**config.model_params).cuda()\n",
    "\n",
    "network.eval()\n",
    "# print(network)\n",
    "\n",
    "ckpt_path = f'./ckpts/{config.model_arch}_sigma{GLOBAL_SIGMA}/best.pth'\n",
    "print(ckpt_path)\n",
    "\n",
    "state_dict = torch.load(ckpt_path, map_location=torch.device('cuda'))\n",
    "new_state_dict = OrderedDict()\n",
    "for k, v in state_dict.items():\n",
    "    name = k[7:] # remove 'module.'\n",
    "    new_state_dict[name] = v \n",
    "# reload params\n",
    "network.load_state_dict(new_state_dict)\n",
    "\n",
    "avg_psnr = 0\n",
    "avg_ssim = 0\n",
    "network.eval()\n",
    "for imid, data in enumerate(eval_dataloader):\n",
    "    inputs, labels = data\n",
    "    inputs, labels = inputs.to(device), labels.to(device)\n",
    "    inputs, labels = inputs.type(torch.cuda.FloatTensor), labels.type(torch.cuda.FloatTensor)\n",
    "\n",
    "    with torch.no_grad():\n",
    "        preds = network(inputs)[0].clamp(0.0, 1.0)\n",
    "        psnr = calc_psnr(preds, labels)\n",
    "        avg_psnr += psnr\n",
    "        ssim_value = calculate_ssim(preds.detach().cpu().numpy()[0,0] * 255.0,\\\n",
    "                              labels.detach().cpu().numpy()[0,0] * 255.0)\n",
    "        avg_ssim += ssim_value\n",
    "\n",
    "print(f'avg psnr: {(avg_psnr / len(eval_dataloader)).item():.4f} avg ssim: {(avg_ssim / len(eval_dataloader)).item():.4f}')"
   ]
  },
  {
   "cell_type": "code",
   "execution_count": 15,
   "id": "91bcf3b4",
   "metadata": {
    "scrolled": true
   },
   "outputs": [],
   "source": [
    "# SHOW_NUM = 12\n",
    "\n",
    "# for imid, data in enumerate(eval_dataloader):\n",
    "    \n",
    "#     if imid >= SHOW_NUM:\n",
    "#         break\n",
    "    \n",
    "#     inputs, labels = data\n",
    "#     inputs, labels = inputs.to(device), labels.to(device)\n",
    "#     inputs, labels = inputs.type(torch.cuda.FloatTensor), labels.type(torch.cuda.FloatTensor)\n",
    "\n",
    "#     with torch.no_grad():\n",
    "#         preds = network(inputs)[0].clamp(0.0, 1.0)\n",
    "        \n",
    "#     fig = plt.figure(figsize=(12, 4))\n",
    "#     plt.subplot(131)\n",
    "#     plt.imshow(inputs.detach().cpu().numpy()[0,0], cmap='gray')\n",
    "#     plt.subplot(132)\n",
    "#     plt.imshow(preds.detach().cpu().numpy()[0,0], cmap='gray')\n",
    "#     plt.subplot(133)\n",
    "#     plt.imshow(labels.detach().cpu().numpy()[0,0], cmap='gray')"
   ]
  }
 ],
 "metadata": {
  "kernelspec": {
   "display_name": "Python 3 (ipykernel)",
   "language": "python",
   "name": "python3"
  },
  "language_info": {
   "codemirror_mode": {
    "name": "ipython",
    "version": 3
   },
   "file_extension": ".py",
   "mimetype": "text/x-python",
   "name": "python",
   "nbconvert_exporter": "python",
   "pygments_lexer": "ipython3",
   "version": "3.7.11"
  },
  "vscode": {
   "interpreter": {
    "hash": "31f2aee4e71d21fbe5cf8b01ff0e069b9275f58929596ceb00d14d90e3e16cd6"
   }
  }
 },
 "nbformat": 4,
 "nbformat_minor": 5
}
